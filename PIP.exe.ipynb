{
  "nbformat": 4,
  "nbformat_minor": 0,
  "metadata": {
    "colab": {
      "provenance": []
    },
    "kernelspec": {
      "name": "python3",
      "display_name": "Python 3"
    },
    "language_info": {
      "name": "python"
    }
  },
  "cells": [
    {
      "cell_type": "code",
      "execution_count": null,
      "metadata": {
        "colab": {
          "base_uri": "https://localhost:8080/"
        },
        "id": "scjSnqH-Pxpg",
        "outputId": "3d9d99d0-d9d6-413d-8eb8-5d4c2210dc29"
      },
      "outputs": [
        {
          "output_type": "stream",
          "name": "stdout",
          "text": [
            "Euclidean Distance: 5.196152422706632\n",
            "Cosine Similarity: 0.9746318461970762\n",
            "Jaccard Similarity: 0.3333333333333333\n"
          ]
        }
      ],
      "source": [
        "#data similarities - 1\n",
        "import numpy as np\n",
        "\n",
        "# Function to calculate Euclidean Distance between two vectors\n",
        "def euclidean_distance(vector1, vector2):\n",
        "    return np.linalg.norm(vector1 - vector2)\n",
        "\n",
        "# Function to calculate Cosine Similarity between two vectors\n",
        "def cosine_similarity(vector1, vector2):\n",
        "    dot_product = np.dot(vector1, vector2)\n",
        "    norm_product = np.linalg.norm(vector1) * np.linalg.norm(vector2)\n",
        "    return dot_product / norm_product\n",
        "\n",
        "# Function to calculate Jaccard Similarity between two sets\n",
        "def jaccard_similarity(set1, set2):\n",
        "    intersection = len(set1.intersection(set2))\n",
        "    union = len(set1.union(set2))\n",
        "    return intersection / union\n",
        "\n",
        "# Example usage\n",
        "vector1 = np.array([1, 2, 3])\n",
        "vector2 = np.array([4, 5, 6])\n",
        "set1 = set([1, 2, 3, 4])\n",
        "set2 = set([3, 4, 5, 6])\n",
        "\n",
        "print(\"Euclidean Distance:\", euclidean_distance(vector1, vector2))\n",
        "print(\"Cosine Similarity:\", cosine_similarity(vector1, vector2))\n",
        "print(\"Jaccard Similarity:\", jaccard_similarity(set1, set2))\n",
        "\n",
        "\n",
        "# Euclidean Distance: This measures the straight-line distance between two points in space. In the context of vectors, it's the length of the line segment connecting the two points. The longer the distance, the less similar the vectors are.\n",
        "# Cosine Similarity: This measures the cosine of the angle between two vectors. It's a measure of similarity between two non-zero vectors of an inner product space. Cosine similarity ranges from -1 to 1, where 1 means the vectors are identical in direction, 0 means they are orthogonal, and -1 means they are diametrically opposite.\n",
        "# Jaccard Similarity: This is used for comparing the similarity and diversity of sample sets. It's defined as the size of the intersection divided by the size of the union of two sets. It ranges from 0 to 1, where 1 means the sets are identical, and 0 means they have no common elements."
      ]
    },
    {
      "cell_type": "code",
      "source": [
        "#dimensionality reduction - 2\n",
        "import numpy as np\n",
        "\n",
        "# Generate a sample user-item matrix\n",
        "user_item_matrix = np.array([\n",
        "    [5, 0, 3, 0, 2],\n",
        "    [4, 0, 0, 0, 1],\n",
        "    [0, 0, 0, 0, 0],\n",
        "    [4, 0, 0, 0, 1],\n",
        "    [0, 0, 0, 0, 0]\n",
        "])\n",
        "\n",
        "# Perform Singular Value Decomposition (SVD)\n",
        "U, Sigma, VT = np.linalg.svd(user_item_matrix)\n",
        "\n",
        "# Choose the number of dimensions to reduce to\n",
        "k = 2\n",
        "\n",
        "# Reduce dimensions\n",
        "U_k = U[:, :k]\n",
        "Sigma_k = np.diag(Sigma[:k])\n",
        "VT_k = VT[:k, :]\n",
        "\n",
        "# Reconstruct the user-item matrix with reduced dimensions\n",
        "user_item_matrix_reduced = np.dot(np.dot(U_k, Sigma_k), VT_k)\n",
        "\n",
        "print(\"Original User-Item Matrix:\")\n",
        "print(user_item_matrix)\n",
        "print(\"\\nReduced User-Item Matrix:\")\n",
        "print(user_item_matrix_reduced)\n",
        "\n",
        "# User-Item Matrix: This is a matrix where each row represents a user and each column represents an item. The values in the matrix represent the ratings that users have given to items. However, in real-world scenarios, this matrix is often sparse because users might not rate all items.\n",
        "# User Profile Learning: User profile learning involves understanding the preferences of users based on their past interactions with items. One simple approach is to calculate the average rating that each user has given to all items. This average rating serves as the user's profile, indicating their general preferences.\n",
        "# Implementation: In this example, we calculate user profiles by taking the mean of each row in the user-item matrix. This means we average the ratings given by each user across all items. The resulting vector represents the user profile for each user.\n",
        "# Usage: Once user profiles are learned, they can be used in various recommendation algorithms to personalize recommendations for users. For example, in collaborative filtering, user profiles can be used to find similar users or to predict the ratings of unseen items for a particular user."
      ],
      "metadata": {
        "colab": {
          "base_uri": "https://localhost:8080/"
        },
        "id": "jFOEIFhbWEpT",
        "outputId": "095b5f32-a2ab-4a37-ee02-2eaff7574864"
      },
      "execution_count": null,
      "outputs": [
        {
          "output_type": "stream",
          "name": "stdout",
          "text": [
            "Original User-Item Matrix:\n",
            "[[5 0 3 0 2]\n",
            " [4 0 0 0 1]\n",
            " [0 0 0 0 0]\n",
            " [4 0 0 0 1]\n",
            " [0 0 0 0 0]]\n",
            "\n",
            "Reduced User-Item Matrix:\n",
            "[[ 5.00000000e+00  3.33572947e-16  3.00000000e+00  0.00000000e+00\n",
            "   2.00000000e+00]\n",
            " [ 4.00000000e+00 -2.51520935e-16 -4.45061360e-16  0.00000000e+00\n",
            "   1.00000000e+00]\n",
            " [ 0.00000000e+00  0.00000000e+00  0.00000000e+00  0.00000000e+00\n",
            "   0.00000000e+00]\n",
            " [ 4.00000000e+00 -2.51520935e-16 -4.45061360e-16  0.00000000e+00\n",
            "   1.00000000e+00]\n",
            " [ 0.00000000e+00  0.00000000e+00  0.00000000e+00  0.00000000e+00\n",
            "   0.00000000e+00]]\n"
          ]
        }
      ]
    },
    {
      "cell_type": "code",
      "source": [
        "#user profiling - 3\n",
        "import numpy as np\n",
        "\n",
        "# Sample user-item matrix (rows represent users, columns represent items)\n",
        "user_item_matrix = np.array([\n",
        "    [0, 0, 0, 0, 2],\n",
        "    [0, 0, 3, 0, 1],\n",
        "    [0, 0, 0, 0, 2],\n",
        "    [4, 0, 4, 0, 1],\n",
        "    [0, 0, 0, 0, 0]\n",
        "])\n",
        "\n",
        "# Function to calculate user profiles\n",
        "def calculate_user_profiles(matrix):\n",
        "    user_profiles = np.mean(matrix, axis=1)\n",
        "    return user_profiles\n",
        "\n",
        "# Function to make recommendations based on user profiles\n",
        "def make_recommendations(user_profiles, item_names):\n",
        "    recommendations = {}\n",
        "    for user_id, profile in enumerate(user_profiles):\n",
        "        # Assuming recommendations are simply the highest rated items\n",
        "        recommended_item = np.argmax(profile)\n",
        "        recommendations[user_id] = item_names[recommended_item]\n",
        "    return recommendations\n",
        "\n",
        "# Function to print recommendations\n",
        "def print_recommendations(recommendations):\n",
        "    print(\"Recommendations:\")\n",
        "    for user_id, item in recommendations.items():\n",
        "        print(f\"User {user_id}: {item}\")\n",
        "\n",
        "# Sample item names\n",
        "item_names = [\"Item 1\", \"Item 2\", \"Item 3\", \"Item 4\", \"Item 5\"]\n",
        "\n",
        "# Main function\n",
        "def main():\n",
        "    user_profiles = calculate_user_profiles(user_item_matrix)\n",
        "    recommendations = make_recommendations(user_profiles, item_names)\n",
        "    print_recommendations(recommendations)\n",
        "\n",
        "# Execute the main function\n",
        "if __name__ == \"__main__\":\n",
        "    main()\n",
        "\n",
        "\n",
        "# User-Item Matrix: We define a sample user-item matrix representing users' ratings for different items. This matrix serves as our input data.\n",
        "# calculate_user_profiles() Function: This function calculates user profiles by taking the mean of each row in the user-item matrix. It returns a vector representing the user profile for each user.\n",
        "# make_recommendations() Function: This function generates recommendations based on user profiles. In this simple example, recommendations are made by selecting the item with the highest average rating in each user's profile.\n",
        "# print_recommendations() Function: This function prints the recommendations generated by the make_recommendations() function.\n",
        "# Main Function: The main function of the program. It calls the calculate_user_profiles() and make_recommendations() functions, and then prints the recommendations.\n",
        "# Execution: The if __name__ == \"__main__\": block ensures that the main() function is executed when the script is run as the main program."
      ],
      "metadata": {
        "colab": {
          "base_uri": "https://localhost:8080/"
        },
        "id": "4dayRpKNWsOk",
        "outputId": "2dc3f378-88d2-4925-f593-22108c514f5e"
      },
      "execution_count": null,
      "outputs": [
        {
          "output_type": "stream",
          "name": "stdout",
          "text": [
            "Recommendations:\n",
            "User 0: Item 1\n",
            "User 1: Item 1\n",
            "User 2: Item 1\n",
            "User 3: Item 1\n",
            "User 4: Item 1\n"
          ]
        }
      ]
    },
    {
      "cell_type": "code",
      "source": [
        "#content recommendation - 4\n",
        "import numpy as np\n",
        "from sklearn.metrics.pairwise import cosine_similarity\n",
        "\n",
        "# Sample item features (rows represent items, columns represent features)\n",
        "item_features = np.array([\n",
        "    [1, 0, 1, 0],  # Item 1: Action, No Romance, High Ratings, No Awards\n",
        "    [0, 1, 1, 0],  # Item 2: No Action, Romance, High Ratings, No Awards\n",
        "    [1, 1, 0, 0],  # Item 3: Action, Romance, No High Ratings, No Awards\n",
        "    [1, 0, 1, 1]   # Item 4: Action, No Romance, High Ratings, Awards\n",
        "])\n",
        "\n",
        "# Sample user preferences (row represents user)\n",
        "user_preferences = np.array([\n",
        "    [1, 0, 1, 0],  # User: Likes Action, No Romance, Likes High Ratings, No Awards\n",
        "])\n",
        "\n",
        "# Function to recommend items based on user preferences\n",
        "def recommend_items(user_preferences, item_features, item_names):\n",
        "    # Calculate cosine similarity between user preferences and item features\n",
        "    similarity_scores = cosine_similarity(user_preferences, item_features)\n",
        "    # Get indices of items sorted by similarity score in descending order\n",
        "    sorted_indices = np.argsort(similarity_scores[0])[::-1]\n",
        "    # Recommend top items\n",
        "    recommended_items = [item_names[idx] for idx in sorted_indices]\n",
        "    return recommended_items\n",
        "\n",
        "# Sample item names\n",
        "item_names = [\"Item 1\", \"Item 2\", \"Item 3\", \"Item 4\"]\n",
        "\n",
        "# Main function\n",
        "def main():\n",
        "    recommendations = recommend_items(user_preferences, item_features, item_names)\n",
        "    print(\"Recommended Items:\")\n",
        "    for item in recommendations:\n",
        "        print(item)\n",
        "\n",
        "# Execute the main function\n",
        "if __name__ == \"__main__\":\n",
        "    main()\n",
        "\n",
        "\n",
        "# Item Features Matrix: In a content-based recommendation system, each item is described by its features. These features can be categorical or numerical. In this example, we have a matrix where each row represents an item and each column represents a feature.\n",
        "# User Preferences Vector: Similarly, we represent user preferences as a vector of features indicating what the user likes or dislikes.\n",
        "# Cosine Similarity: We use cosine similarity to measure the similarity between the user preferences and each item's features. Cosine similarity calculates the cosine of the angle between two vectors and ranges from -1 (completely dissimilar) to 1 (completely similar).\n",
        "# Recommendation Function: The recommend_items() function calculates the cosine similarity between the user preferences and item features, sorts the items based on similarity scores, and returns the recommended items.\n",
        "# Main Function: The main function calls the recommend_items() function and prints the recommended items."
      ],
      "metadata": {
        "colab": {
          "base_uri": "https://localhost:8080/"
        },
        "id": "bFKIFiniWtC8",
        "outputId": "ff158597-52b7-469c-e170-15ef1e087331"
      },
      "execution_count": null,
      "outputs": [
        {
          "output_type": "stream",
          "name": "stdout",
          "text": [
            "Recommended Items:\n",
            "Item 1\n",
            "Item 4\n",
            "Item 3\n",
            "Item 2\n"
          ]
        }
      ]
    },
    {
      "cell_type": "code",
      "source": [
        "#collaborative filterting technique - 5\n",
        "import numpy as np\n",
        "\n",
        "# Sample user-item matrix (rows represent users, columns represent items)\n",
        "user_item_matrix = np.array([\n",
        "    [5, 0, 3, 0, 2],\n",
        "    [4, 0, 0, 0, 1],\n",
        "    [0, 0, 0, 0, 0],\n",
        "    [4, 0, 0, 0, 1],\n",
        "    [0, 0, 0, 0, 0]\n",
        "])\n",
        "\n",
        "# Function to calculate item-item similarity matrix using cosine similarity\n",
        "def calculate_item_similarity(user_item_matrix):\n",
        "    item_similarity = np.zeros((user_item_matrix.shape[1], user_item_matrix.shape[1]))\n",
        "    for i in range(user_item_matrix.shape[1]):\n",
        "        for j in range(user_item_matrix.shape[1]):\n",
        "            if i != j:\n",
        "                item_similarity[i, j] = np.dot(user_item_matrix[:, i], user_item_matrix[:, j]) / \\\n",
        "                                        (np.linalg.norm(user_item_matrix[:, i]) * np.linalg.norm(user_item_matrix[:, j]))\n",
        "    return item_similarity\n",
        "\n",
        "# Function to make recommendations based on item-item similarity\n",
        "def make_item_based_recommendations(user_item_matrix, item_similarity, user_id, top_n=3):\n",
        "    user_ratings = user_item_matrix[user_id]\n",
        "    # Find indices of items user hasn't rated\n",
        "    unrated_indices = np.where(user_ratings == 0)[0]\n",
        "    # Calculate predicted ratings for unrated items based on weighted sum of similar items\n",
        "    predicted_ratings = np.dot(item_similarity, user_ratings) / np.sum(item_similarity, axis=1)\n",
        "    # Sort items based on predicted ratings\n",
        "    sorted_indices = np.argsort(predicted_ratings)[::-1]\n",
        "    # Filter out rated items and get top n recommendations\n",
        "    recommendations = [idx for idx in sorted_indices if idx in unrated_indices][:top_n]\n",
        "    return recommendations\n",
        "\n",
        "# Main function\n",
        "def main():\n",
        "    # Calculate item-item similarity matrix\n",
        "    item_similarity = calculate_item_similarity(user_item_matrix)\n",
        "    # Make recommendations for user 0\n",
        "    user_id = 0\n",
        "    recommendations = make_item_based_recommendations(user_item_matrix, item_similarity, user_id)\n",
        "    print(\"Recommendations for User\", user_id, \":\")\n",
        "    print(recommendations)\n",
        "\n",
        "# Execute the main function\n",
        "if __name__ == \"__main__\":\n",
        "    main()\n",
        "\n",
        "\n",
        "# User-Item Matrix: This matrix represents the ratings given by users to items. Each row corresponds to a user, and each column corresponds to an item. The values in the matrix represent the ratings given by users to items (0 indicates no rating).\n",
        "# Item-Item Similarity Matrix: We calculate the similarity between items using cosine similarity. This matrix represents how similar each pair of items is based on user ratings.\n",
        "# Item-Based Recommendations: To make recommendations for a user, we first find the items the user hasn't rated yet. Then, for each unrated item, we calculate a predicted rating based on the ratings of similar items. The predicted ratings are computed as a weighted sum of the ratings of similar items, where the weights are the similarities between items. Finally, we sort the unrated items based on predicted ratings and recommend the top N items.\n",
        "# Main Function: The main function calculates item-item similarity and makes recommendations for a sample user (user 0 in this case)."
      ],
      "metadata": {
        "colab": {
          "base_uri": "https://localhost:8080/"
        },
        "id": "8Xq9JW1laMZh",
        "outputId": "0bd31e18-82e0-4770-ad5a-6eb7a939c567"
      },
      "execution_count": null,
      "outputs": [
        {
          "output_type": "stream",
          "name": "stdout",
          "text": [
            "Recommendations for User 0 :\n",
            "[3, 1]\n"
          ]
        },
        {
          "output_type": "stream",
          "name": "stderr",
          "text": [
            "<ipython-input-21-3f19f148c3ea>:19: RuntimeWarning: invalid value encountered in scalar divide\n",
            "  item_similarity[i, j] = np.dot(user_item_matrix[:, i], user_item_matrix[:, j]) / \\\n"
          ]
        }
      ]
    },
    {
      "cell_type": "code",
      "source": [
        "#roc (receiver operated characterisitc ) curve - 7\n",
        "import numpy as np\n",
        "import matplotlib.pyplot as plt\n",
        "from sklearn.metrics import roc_curve, auc\n",
        "\n",
        "# Generate some sample data for demonstration\n",
        "true_labels = np.array([0, 1, 1, 0, 1, 0, 1, 0, 1, 1])\n",
        "predicted_scores = np.array([0.1, 0.4, 0.6, 0.3, 0.7, 0.2, 0.8, 0.5, 0.9, 0.65])\n",
        "\n",
        "# Compute ROC curve and AUC\n",
        "fpr, tpr, thresholds = roc_curve(true_labels, predicted_scores)\n",
        "roc_auc = auc(fpr, tpr)\n",
        "\n",
        "# Plot ROC curve\n",
        "plt.figure()\n",
        "plt.plot(fpr, tpr, color='darkorange', lw=2, label='ROC curve (area = %0.2f)' % roc_auc)\n",
        "plt.plot([0, 1], [0, 1], color='navy', lw=2, linestyle='--')\n",
        "plt.xlim([0.0, 1.0])\n",
        "plt.ylim([0.0, 1.05])\n",
        "plt.xlabel('False Positive Rate')\n",
        "plt.ylabel('True Positive Rate')\n",
        "plt.title('Receiver Operating Characteristic (ROC) Curve')\n",
        "plt.legend(loc=\"lower right\")\n",
        "plt.show()\n",
        "\n",
        "\n",
        "# We start by importing the necessary libraries: NumPy for numerical operations, Matplotlib for plotting, and scikit-learn for ROC curve computation and AUC calculation.\n",
        "# We generate sample data for demonstration purposes: true_labels represent the true binary labels (0 or 1), and predicted_scores represent the predicted scores or probabilities from a binary classifier.\n",
        "# We use scikit-learn's roc_curve function to compute the ROC curve, which returns the false positive rate (fpr), true positive rate (tpr), and corresponding thresholds.\n",
        "# We calculate the Area Under the Curve (AUC) using scikit-learn's auc function.\n",
        "# Finally, we plot the ROC curve using Matplotlib. The ROC curve plots the true positive rate (TPR) against the false positive rate (FPR) for different threshold values. The AUC value represents the area under the ROC curve, which quantifies the performance of the classifier: higher AUC values indicate better performance."
      ],
      "metadata": {
        "colab": {
          "base_uri": "https://localhost:8080/",
          "height": 472
        },
        "id": "psKYJ8Lgab4u",
        "outputId": "4fd36e02-57b8-49ae-9fd1-04f79cb5bfe2"
      },
      "execution_count": null,
      "outputs": [
        {
          "output_type": "display_data",
          "data": {
            "text/plain": [
              "<Figure size 640x480 with 1 Axes>"
            ],
            "image/png": "[encoded data removed]"
          },
          "metadata": {}
        }
      ]
    },
    {
      "cell_type": "code",
      "source": [
        "# Create an attack for tampering with recommender systems"
      ],
      "metadata": {
        "id": "rJ56JOCZcWEK"
      },
      "execution_count": null,
      "outputs": []
    }
  ]
}